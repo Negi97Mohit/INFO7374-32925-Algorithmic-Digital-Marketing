{
 "cells": [
  {
   "cell_type": "code",
   "execution_count": 2,
   "id": "5ff24a4d-b12e-439c-873f-aad15792fb98",
   "metadata": {},
   "outputs": [],
   "source": [
    "import pandas as pd\n",
    "import numpy as np"
   ]
  },
  {
   "cell_type": "code",
   "execution_count": 3,
   "id": "8016341f-5ecb-4dfc-932e-1d3550615ca4",
   "metadata": {},
   "outputs": [],
   "source": [
    "#Function to import df from every sheet in excel file\n",
    "def extract_df(filepath):\n",
    "    sheet=pd.ExcelFile(filepath)\n",
    "    sheet_num=len(sheet.sheet_names)\n",
    "    for sheetName in sheet.sheet_names:\n",
    "        sheetName=pd.read_excel(filepath,sheet_name=sheetName)"
   ]
  },
  {
   "cell_type": "code",
   "execution_count": null,
   "id": "5ba1180d-d158-4c33-9a8f-4d86d4f146ae",
   "metadata": {},
   "outputs": [],
   "source": []
  }
 ],
 "metadata": {
  "kernelspec": {
   "display_name": "Python 3 (ipykernel)",
   "language": "python",
   "name": "python3"
  },
  "language_info": {
   "codemirror_mode": {
    "name": "ipython",
    "version": 3
   },
   "file_extension": ".py",
   "mimetype": "text/x-python",
   "name": "python",
   "nbconvert_exporter": "python",
   "pygments_lexer": "ipython3",
   "version": "3.9.13"
  }
 },
 "nbformat": 4,
 "nbformat_minor": 5
}
